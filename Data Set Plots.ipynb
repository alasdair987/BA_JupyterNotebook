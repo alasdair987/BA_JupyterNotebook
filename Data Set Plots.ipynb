{
 "cells": [
  {
   "cell_type": "code",
   "execution_count": null,
   "id": "49bf60e7",
   "metadata": {},
   "outputs": [],
   "source": [
    "import matplotlib\n",
    "import pandas as pd \n",
    "import numpy as np\n",
    "import matplotlib.pyplot as plt\n",
    "\n",
    "###Import data set\n",
    "student_data3 = pd.read_csv('studentInfo.csv')\n",
    "\n",
    "###Drop null values from data set\n",
    "student_data3 = student_data3.dropna()\n",
    "\n",
    "###Simplify target attribute 1=Pass, 0=Fail\n",
    "student_data3 = student_data3.replace(['Distinction', 'Pass'], 'Pass')\n",
    "student_data3 = student_data3.replace(['Withdrawn', 'Fail'], 'Fail')\n",
    "\n",
    "###Simplify protected attribute 1=high_deprivation, 0=low_deprivation\n",
    "student_data3 = student_data3.replace(['0-10%','10-20','20-30%','30-40%','40-50%'], 'Hohe Benachteiligung')\n",
    "student_data3 = student_data3.replace(['50-60%','60-70%','70-80%','80-90%','90-100%'], 'Niedrige Benachteiligung')\n",
    "#student_data3 = student_data3.replace(['10-20%'], '10-20')\n",
    "\n",
    "pl = pd.crosstab(student_data3['imd_band'], student_data3['final_result'], normalize='all')\n",
    "pl.plot(kind='bar', grid = True, rot=0).legend(loc=(1.01,0.88))\n",
    "\n",
    "\n",
    "#pl2 = pd.crosstab(student_data3['imd_band'], student_data3['highest_education'], normalize='all')\n",
    "#pl2.plot(kind='bar', grid = True).legend(loc=(1.01,0.71))\n",
    "\n",
    "\n",
    "#pl3 = student_data3['imd_band'].value_counts(normalize=True)\n",
    "#pl3.plot(kind='bar', grid = True)\n",
    "\n",
    "#pl4 = pd.crosstab(student_data3['imd_band'], student_data3['final_result'])\n",
    "#pl4.plot(kind='bar', grid = True).legend(loc=(1.01,0.88))\n",
    "\n",
    "#pl5 = student_data3['final_result'].value_counts(normalize=True)\n",
    "#pl5.plot(kind='bar', grid = True)"
   ]
  }
 ],
 "metadata": {
  "kernelspec": {
   "display_name": "Python 3 (ipykernel)",
   "language": "python",
   "name": "python3"
  },
  "language_info": {
   "codemirror_mode": {
    "name": "ipython",
    "version": 3
   },
   "file_extension": ".py",
   "mimetype": "text/x-python",
   "name": "python",
   "nbconvert_exporter": "python",
   "pygments_lexer": "ipython3",
   "version": "3.11.3"
  }
 },
 "nbformat": 4,
 "nbformat_minor": 5
}
