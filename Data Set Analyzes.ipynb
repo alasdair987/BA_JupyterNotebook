{
 "cells": [
  {
   "cell_type": "code",
   "execution_count": null,
   "id": "ff3170c5",
   "metadata": {},
   "outputs": [],
   "source": [
    "import sys\n",
    "import pandas as pd\n",
    "import numpy as np\n",
    "\n",
    "pd.set_option(\"display.max_rows\", None, \"display.max_columns\", None)\n",
    "np.set_printoptions(threshold=sys.maxsize)\n",
    "\n",
    "student_data3 = pd.read_csv('studentInfo.csv')\n",
    "\n",
    "student_data3 = student_data3.rename(columns={\"code_presentation\":\n",
    "\"code_pres\", \"num_of_prev_attempts\": \"nop_attempts\"})\n",
    "#student_data3.info()\n",
    "#student_data3.head()\n",
    "#student_data3.tail()\n",
    "#student_data3.size\n",
    "#student_data3.describe()\n",
    "#student_data3.isnull().sum()\n",
    "#student_data3.nunique()\n",
    "#student_data3.duplicated()\n",
    "#student_data3 = student_data3.dropna()\n",
    "student_data3.info()"
   ]
  }
 ],
 "metadata": {
  "kernelspec": {
   "display_name": "Python 3 (ipykernel)",
   "language": "python",
   "name": "python3"
  },
  "language_info": {
   "codemirror_mode": {
    "name": "ipython",
    "version": 3
   },
   "file_extension": ".py",
   "mimetype": "text/x-python",
   "name": "python",
   "nbconvert_exporter": "python",
   "pygments_lexer": "ipython3",
   "version": "3.11.3"
  }
 },
 "nbformat": 4,
 "nbformat_minor": 5
}
